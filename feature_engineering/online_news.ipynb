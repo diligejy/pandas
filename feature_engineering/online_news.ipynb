{
 "cells": [
  {
   "cell_type": "code",
   "execution_count": 6,
   "metadata": {},
   "outputs": [],
   "source": [
    "import numpy as np\n",
    "import pandas as pd"
   ]
  },
  {
   "cell_type": "code",
   "execution_count": 2,
   "metadata": {},
   "outputs": [],
   "source": [
    "df = pd.read_csv('OnlineNewsPopularity.csv')"
   ]
  },
  {
   "cell_type": "code",
   "execution_count": 3,
   "metadata": {},
   "outputs": [],
   "source": [
    "# 뉴스 기사 단어(토큰) 수를 나타내는 n_tokens_content 피처를 로그 변환"
   ]
  },
  {
   "cell_type": "code",
   "execution_count": 46,
   "metadata": {},
   "outputs": [],
   "source": [
    "df['log_n_tokens_content'] = np.log10(df[' n_tokens_content'] + 1)"
   ]
  },
  {
   "cell_type": "code",
   "execution_count": 47,
   "metadata": {},
   "outputs": [
    {
     "name": "stdout",
     "output_type": "stream",
     "text": [
      "<class 'pandas.core.frame.DataFrame'>\n",
      "RangeIndex: 39644 entries, 0 to 39643\n",
      "Data columns (total 63 columns):\n",
      "index                             39644 non-null int64\n",
      "url                               39644 non-null object\n",
      " timedelta                        39644 non-null float64\n",
      " n_tokens_title                   39644 non-null float64\n",
      " n_tokens_content                 39644 non-null float64\n",
      " n_unique_tokens                  39644 non-null float64\n",
      " n_non_stop_words                 39644 non-null float64\n",
      " n_non_stop_unique_tokens         39644 non-null float64\n",
      " num_hrefs                        39644 non-null float64\n",
      " num_self_hrefs                   39644 non-null float64\n",
      " num_imgs                         39644 non-null float64\n",
      " num_videos                       39644 non-null float64\n",
      " average_token_length             39644 non-null float64\n",
      " num_keywords                     39644 non-null float64\n",
      " data_channel_is_lifestyle        39644 non-null float64\n",
      " data_channel_is_entertainment    39644 non-null float64\n",
      " data_channel_is_bus              39644 non-null float64\n",
      " data_channel_is_socmed           39644 non-null float64\n",
      " data_channel_is_tech             39644 non-null float64\n",
      " data_channel_is_world            39644 non-null float64\n",
      " kw_min_min                       39644 non-null float64\n",
      " kw_max_min                       39644 non-null float64\n",
      " kw_avg_min                       39644 non-null float64\n",
      " kw_min_max                       39644 non-null float64\n",
      " kw_max_max                       39644 non-null float64\n",
      " kw_avg_max                       39644 non-null float64\n",
      " kw_min_avg                       39644 non-null float64\n",
      " kw_max_avg                       39644 non-null float64\n",
      " kw_avg_avg                       39644 non-null float64\n",
      " self_reference_min_shares        39644 non-null float64\n",
      " self_reference_max_shares        39644 non-null float64\n",
      " self_reference_avg_sharess       39644 non-null float64\n",
      " weekday_is_monday                39644 non-null float64\n",
      " weekday_is_tuesday               39644 non-null float64\n",
      " weekday_is_wednesday             39644 non-null float64\n",
      " weekday_is_thursday              39644 non-null float64\n",
      " weekday_is_friday                39644 non-null float64\n",
      " weekday_is_saturday              39644 non-null float64\n",
      " weekday_is_sunday                39644 non-null float64\n",
      " is_weekend                       39644 non-null float64\n",
      " LDA_00                           39644 non-null float64\n",
      " LDA_01                           39644 non-null float64\n",
      " LDA_02                           39644 non-null float64\n",
      " LDA_03                           39644 non-null float64\n",
      " LDA_04                           39644 non-null float64\n",
      " global_subjectivity              39644 non-null float64\n",
      " global_sentiment_polarity        39644 non-null float64\n",
      " global_rate_positive_words       39644 non-null float64\n",
      " global_rate_negative_words       39644 non-null float64\n",
      " rate_positive_words              39644 non-null float64\n",
      " rate_negative_words              39644 non-null float64\n",
      " avg_positive_polarity            39644 non-null float64\n",
      " min_positive_polarity            39644 non-null float64\n",
      " max_positive_polarity            39644 non-null float64\n",
      " avg_negative_polarity            39644 non-null float64\n",
      " min_negative_polarity            39644 non-null float64\n",
      " max_negative_polarity            39644 non-null float64\n",
      " title_subjectivity               39644 non-null float64\n",
      " title_sentiment_polarity         39644 non-null float64\n",
      " abs_title_subjectivity           39644 non-null float64\n",
      " abs_title_sentiment_polarity     39644 non-null float64\n",
      " shares                           39644 non-null int64\n",
      "log_n_tokens_content              39644 non-null float64\n",
      "dtypes: float64(60), int64(2), object(1)\n",
      "memory usage: 19.1+ MB\n"
     ]
    }
   ],
   "source": [
    "df.info()"
   ]
  },
  {
   "cell_type": "code",
   "execution_count": 48,
   "metadata": {},
   "outputs": [],
   "source": [
    "# 기사의 공유 횟수를 예측하기 위해 두 개의 선형 회귀 모델을 학습\n",
    "# 한 모델은 원래의 피처를 사용하고\n",
    "# 다른 모델은 로그 변환된 피처를 사용한다"
   ]
  },
  {
   "cell_type": "code",
   "execution_count": 49,
   "metadata": {},
   "outputs": [],
   "source": [
    "from sklearn import linear_model\n",
    "from sklearn.model_selection import cross_val_score"
   ]
  },
  {
   "cell_type": "code",
   "execution_count": 50,
   "metadata": {},
   "outputs": [],
   "source": [
    "m_orig = linear_model.LinearRegression()"
   ]
  },
  {
   "cell_type": "code",
   "execution_count": 51,
   "metadata": {},
   "outputs": [],
   "source": [
    "scores_orig = cross_val_score(m_orig, df[[' n_tokens_content']], df[' shares'], cv = 10)"
   ]
  },
  {
   "cell_type": "code",
   "execution_count": 52,
   "metadata": {},
   "outputs": [],
   "source": [
    "m_log = linear_model.LinearRegression()"
   ]
  },
  {
   "cell_type": "code",
   "execution_count": 53,
   "metadata": {},
   "outputs": [],
   "source": [
    "scores_log = cross_val_score(m_log, df[['log_n_tokens_content']], df[' shares'], cv = 10)"
   ]
  },
  {
   "cell_type": "code",
   "execution_count": 54,
   "metadata": {},
   "outputs": [
    {
     "name": "stdout",
     "output_type": "stream",
     "text": [
      "R-squared score without log transform : -0.00242 (+/- 0.00509)\n"
     ]
    }
   ],
   "source": [
    "print('R-squared score without log transform : %0.5f (+/- %0.5f)'\n",
    "     % (scores_orig.mean(), scores_orig.std() * 2))"
   ]
  },
  {
   "cell_type": "code",
   "execution_count": 55,
   "metadata": {},
   "outputs": [
    {
     "name": "stdout",
     "output_type": "stream",
     "text": [
      "R-squared score with log transform -0.00114 (+/- 0.00418)\n"
     ]
    }
   ],
   "source": [
    "print('R-squared score with log transform %0.5f (+/- %0.5f)'\n",
    "     % (scores_log.mean(), scores_log.std() * 2))"
   ]
  },
  {
   "cell_type": "code",
   "execution_count": null,
   "metadata": {},
   "outputs": [],
   "source": []
  },
  {
   "cell_type": "code",
   "execution_count": null,
   "metadata": {},
   "outputs": [],
   "source": []
  }
 ],
 "metadata": {
  "kernelspec": {
   "display_name": "Python 3",
   "language": "python",
   "name": "python3"
  },
  "language_info": {
   "codemirror_mode": {
    "name": "ipython",
    "version": 3
   },
   "file_extension": ".py",
   "mimetype": "text/x-python",
   "name": "python",
   "nbconvert_exporter": "python",
   "pygments_lexer": "ipython3",
   "version": "3.7.4"
  }
 },
 "nbformat": 4,
 "nbformat_minor": 4
}
